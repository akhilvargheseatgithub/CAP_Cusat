{
 "cells": [
  {
   "cell_type": "markdown",
   "metadata": {},
   "source": [
    "# Dispersion of Ultrashort Pulse when Passing through Transparent Media"
   ]
  },
  {
   "cell_type": "markdown",
   "metadata": {},
   "source": [
    "In the time domain an electric field propagating with a carrier frequency $w_{0}$, pulse duration of $\\Delta t$ and phase $\\theta$ can be expressed as,\n",
    "\n",
    "\\begin{equation} \n",
    "E(t)=\\sqrt{A_{t}e^{-ln2\\big(\\frac{2t^{2}}{\\Delta t}\\big)^{2}}}e^{-i(w_{0}t+\\theta(t))} + c.c\n",
    "\\end{equation}\n",
    "\n",
    "Where $A_{t}$ is the amplitude of the pulse. Here $w_{0}$ determines the color of the pulse, $\\Delta t$ determines the minimum pulse duration and consequently the bandwidth of the pulse, and $\\theta (t)$ determines the temporal relationship among the frequency components contained within the bandwidth of the pulse. $\\theta (t)$ plays an important role in altering the pulse duration. It is the term that is responsible for pulse broadening in dispersive media and can be thought of as adding a complex width to the Gaussian envelope.\n",
    "\n",
    "To make the calculations from temporal domain to spectral domain, $\\Delta t$ being related to $\\Delta w$ using the uncertainty relation \n",
    "\n",
    "\\begin{equation}\n",
    "\\Delta w \\Delta t = 4ln(2)\n",
    "\\end{equation}\n",
    "\n",
    "Then the field can be expressed as,\n",
    "\n",
    "\\begin{equation} \n",
    "E(w)=\\sqrt{A_{w}e^{-ln2\\big(\\frac{2(w-w_{0}}{\\Delta w}\\big)^{2}}}e^{-i \\phi_{pulse}(w-w_{0})} + c.c\n",
    "\\end{equation}\n",
    "\n",
    "where $\\phi_{pulse}(w-w_{0})$ is the spectral phase added by the material.\n",
    "\n",
    "Dispersion of ultrafast pulses is approximated by the Taylor expansion of the spectral phase about a point, the carrier frequency of the driving laser $w_{0}$. The resulting infinite series is represented by,\n",
    "\n",
    "\\begin{equation}\n",
    "\\phi (w-w_{0})=\\phi_{0}+\\phi_{1}(w-w_{0})+\\phi_{2}\\frac{(w-w_{0})^2}{2}+\\phi_{3}\\frac{(w-w_{0})^3}{6}+.....\n",
    "\\end{equation}\n",
    "\n",
    "This approach allows a more straightforward understanding of the effect of material dispersion on properties of the pulse.\n",
    "Considering the relation, \n",
    "\n",
    "\\begin{equation}\n",
    "\\phi(w)=k(w)L\n",
    "\\end{equation}\n",
    "where k is the propagation constant and L is the length of the medium. Truncating at the third term of the equation, ech co-efficient in the Taylor expansion can be obtained as,\n",
    "\n",
    "\\begin{equation}\n",
    "\\phi_{1}=\\frac{dk(w)}{dw}L \\ \\ \\ \\ \\phi_{2}=\\frac{d^{2}k(w)}{dw^{2}}L    \n",
    "\\end{equation}\n",
    "\n",
    "$\\frac{dw}{dk}$ is the group velocity of the propagating pulse, $V_{g}$.\n",
    "Hence $\\phi_{2}=\\frac{d}{dw}\\big( \\frac{1}{V_{g}} \\big)L$ \n",
    "which is known as the group velocity dispersion(GVD) of the pusle. Considering the relations for $\\phi_{1}$ and $\\phi_{2}$, the terms in the Taylor expansion can be understood.\n",
    "\n",
    "The first term($\\phi_{0}$), adds a constant to the phase. The second term($\\phi_{1}$), proportional to $\\frac{1}{V_{g}}$, adds delay to the pulse. Neither of these terms affects the shape of the pulse. The third term($\\phi_{2}$), referred to as Group Delay Dispersion (GDD) introduces a frequency dependent delay of the different spectral components of the pulse, thus temporally changing the pulse width.\n",
    "\n",
    "Converting the equation into time domain by Inverse Fourier transformation, we will get the amplitude of pulse coming out of the medium as, \n",
    "\n",
    "\\begin{equation} \n",
    "E_{out}(t)=\\sqrt{A_{t}'} \\ \\ e^ \\frac{4(ln2)t^{2}}{2 \\left( \\Delta t^{2}+i 4 (ln2)\\Phi_{2} \\right)}\n",
    "\\end{equation}"
   ]
  },
  {
   "cell_type": "markdown",
   "metadata": {},
   "source": [
    "Where $\\Phi_{2}$ is the sum of the group delay dispersion of the material and the group delay of the pulse. Then the new pulse duration is given by,\n",
    "\n",
    "\\begin{equation}\n",
    "\\Delta t_{out}=\\frac{\\sqrt{\\Delta t^{4}+16ln(2)^{2}\\Phi_{2}^{2}}}{\\Delta t}\n",
    "\\end{equation}"
   ]
  },
  {
   "cell_type": "code",
   "execution_count": 2,
   "metadata": {},
   "outputs": [],
   "source": [
    "import numpy as np\n",
    "import matplotlib.pyplot as plt"
   ]
  },
  {
   "cell_type": "markdown",
   "metadata": {},
   "source": [
    "# Relation between Output Pulse width and Input Pulse width for a specific material for specific wavelength"
   ]
  },
  {
   "cell_type": "code",
   "execution_count": 4,
   "metadata": {},
   "outputs": [
    {
     "data": {
      "image/png": "[encoded data removed]",
      "text/plain": [
       "<Figure size 432x288 with 1 Axes>"
      ]
     },
     "metadata": {
      "needs_background": "light"
     },
     "output_type": "display_data"
    }
   ],
   "source": [
    "gvd=36.16       #in fs^2/mm   #Material-Wavelength Specific \n",
    "l=20            #in mm\n",
    "gdd=gvd*l\n",
    "\n",
    "def tout(t):\n",
    "    return np.sqrt((t**4)+(16*np.log10(2)**2)*gdd**2)/t\n",
    "x=[]\n",
    "y=[]\n",
    "for t in range(1,200):   #Range of input pulse widths\n",
    "    x.append(t)\n",
    "    y.append(tout(t))\n",
    "\n",
    "plt.plot(x,y)\n",
    "plt.title(\"Input v/s Output Pulse Width\")\n",
    "plt.text(125,25, 'Material : NBK7\\nWavelength=800 nm\\nGVD = 36.16 $fs^2/mm$\\nlength=20mm', fontsize = 10,color='red')\n",
    "plt.grid(axis='both')\n",
    "plt.xlabel('Input Pulse Width (fs)')\n",
    "plt.ylabel('Output Pulse Width (fs)')\n",
    "plt.ylim(0,200)\n",
    "plt.xlim(0,200)\n",
    "plt.show()"
   ]
  },
  {
   "cell_type": "markdown",
   "metadata": {},
   "source": [
    "Reproduced from: https://www.newport.com/n/the-effect-of-dispersion-on-ultrashort-pulses "
   ]
  },
  {
   "cell_type": "markdown",
   "metadata": {},
   "source": [
    "# Temporal Stretch Due to Dispersion Through a medium"
   ]
  },
  {
   "cell_type": "markdown",
   "metadata": {},
   "source": [
    "For an input pulse with tens of femtosecond pulse width, while multiple pass through a dispersive material, the input pulse width for each pass varies and a cumulative computation will give the final pulse width.\n",
    "\n",
    "(for 500 passes)"
   ]
  },
  {
   "cell_type": "code",
   "execution_count": 11,
   "metadata": {},
   "outputs": [
    {
     "name": "stdout",
     "output_type": "stream",
     "text": [
      "Input Pulse Width= 35 fs\n",
      "Output Pulse Width after 500 passes= 117.64393562571095 fs\n"
     ]
    }
   ],
   "source": [
    "gvd=36.16       #in fs^2/mm  #Fused Silica #Material-Wavelength Specific \n",
    "l=10            #in mm\n",
    "gdd=gvd*l\n",
    "tin=35          #input pulse width in femtoseconds\n",
    "a=tin\n",
    "t_in_each=[]\n",
    "t_ou_each=[]\n",
    "\n",
    "for k in range(1,501):      #Number of passes through the same material\n",
    "    t_in_each.append(tin)\n",
    "    tin=np.sqrt((tin**4)+(16*np.log10(2)**2)*gdd**2)/tin\n",
    "    t_ou_each.append(tin)\n",
    "    #print(\"Pulse width before pass No:\",k,'=',t_in_each[k-1],'fs',\"--\",\"Pulse width after pass No:\",k,'=',t_ou_each[k-1],'fs')\n",
    "    #print(t_ou_each[k-1]-t_in_each[k-1])\n",
    "    \n",
    "passes=len(t_ou_each)    \n",
    "    \n",
    "print('Input Pulse Width=',a,'fs')\n",
    "print('Output Pulse Width after', passes,'passes=',tin,'fs')"
   ]
  },
  {
   "cell_type": "markdown",
   "metadata": {},
   "source": [
    "# Calculation of Beta Integral for Components"
   ]
  },
  {
   "cell_type": "markdown",
   "metadata": {},
   "source": [
    "For an amplified input pulse from the source, which ranges from 1-7 mJ energy, the Beta integral for such pulse while mutiple pass through materials inside the cavity will be,\n",
    "\n",
    "(for 500 passes)"
   ]
  },
  {
   "cell_type": "code",
   "execution_count": 20,
   "metadata": {},
   "outputs": [
    {
     "name": "stdout",
     "output_type": "stream",
     "text": [
      "\n",
      " Input Pulse energy= 1 milli joule\n",
      "Total b-integral after 500 passes= 159.7032074772461\n"
     ]
    }
   ],
   "source": [
    "#Spot Properties\n",
    "energy=1*10**-3     #in Joules   \n",
    "spotradius=5*10**-3\n",
    "spotarea=np.pi*spotradius**2\n",
    "n2=2.87*10**-20    #in m^2/W\n",
    "\n",
    "bintegral=[]\n",
    "lamda=800*10**-9\n",
    "for i in range(0,len(t_in_each)):\n",
    "    I=energy/(spotarea*t_in_each[i]*10**-15)\n",
    "    b=(2*np.pi/lamda)*n2*I*l*10**-3\n",
    "    bintegral.append(b)\n",
    "#print('b=',bintegral)\n",
    "print(\"\\n Input Pulse energy= 1 milli joule\")\n",
    "print('Total b-integral after 500 passes=',sum(bintegral))"
   ]
  },
  {
   "cell_type": "markdown",
   "metadata": {},
   "source": [
    "This is too large for an experimental purpose. \n",
    "But taking consideration of the energy range needed for a stable white light generation using a non linear material is around 1 micro joules(0.44 micro joules for Sapphire crystal) . Hence atteneuating the pulse energy even before it enters the delay cavity will give added advantage in terms of reducing the beta integral and avoiding considerable damage to the material. Hence for such attenuated pulse, the beta integral will be,\n"
   ]
  },
  {
   "cell_type": "code",
   "execution_count": 21,
   "metadata": {},
   "outputs": [
    {
     "name": "stdout",
     "output_type": "stream",
     "text": [
      "\n",
      " Input Pulse energy= 1 micro joule\n",
      "Total b-integral after 500 passes= 0.1597032074772458\n"
     ]
    }
   ],
   "source": [
    "energy=1*10**-6     #in Joules   #Beam is Attenuated before entering the \n",
    "spotradius=5*10**-3\n",
    "spotarea=np.pi*spotradius**2\n",
    "n2=2.87*10**-20    #in m^2/W\n",
    "\n",
    "bintegral=[]\n",
    "lamda=800*10**-9\n",
    "for i in range(0,len(t_in_each)):\n",
    "    I=energy/(spotarea*t_in_each[i]*10**-15)\n",
    "    b=(2*np.pi/lamda)*n2*I*l*10**-3\n",
    "    bintegral.append(b)\n",
    "#print('b=',bintegral)\n",
    "print(\"\\n Input Pulse energy= 1 micro joule\")\n",
    "print('Total b-integral after 500 passes=',sum(bintegral))"
   ]
  },
  {
   "cell_type": "markdown",
   "metadata": {},
   "source": [
    "Which is appropriate for the experiment."
   ]
  },
  {
   "cell_type": "markdown",
   "metadata": {},
   "source": [
    "# Energy dependence of beta integral for various propagation lengths"
   ]
  },
  {
   "cell_type": "markdown",
   "metadata": {},
   "source": [
    "Since beta integral depends on input energy (intensity), beta integral for various optical path lengths are expected to be different. A computational result for specific input energies is found to be as follows."
   ]
  },
  {
   "cell_type": "markdown",
   "metadata": {},
   "source": [
    "for NBK 7 Material"
   ]
  },
  {
   "cell_type": "code",
   "execution_count": 22,
   "metadata": {},
   "outputs": [
    {
     "data": {
      "image/png": "[encoded data removed]",
      "text/plain": [
       "<Figure size 432x288 with 1 Axes>"
      ]
     },
     "metadata": {
      "needs_background": "light"
     },
     "output_type": "display_data"
    },
    {
     "data": {
      "text/plain": [
       "<Figure size 432x288 with 0 Axes>"
      ]
     },
     "metadata": {},
     "output_type": "display_data"
    }
   ],
   "source": [
    "energy=[1,5,10]     #in Joules   #Beam is Attenuated before entering the \n",
    "spotradius=5*10**-3          #in meter\n",
    "spotarea=np.pi*spotradius**2\n",
    "n2=3.22*10**-20    #in m^2/W\n",
    "pulsewidth=35*10**-15\n",
    "lamda=800*10**-9\n",
    "length=[]\n",
    "bintegral=[[],[],[]]\n",
    "\n",
    "\n",
    "for e in range(0,3):\n",
    "    I=energy[e]*10**-6/(spotarea*pulsewidth)\n",
    "    for l in range(1,101):\n",
    "        b=(2*np.pi/lamda)*n2*I*l*10**-3     #in mm\n",
    "        length.append(l)\n",
    "        bintegral[e].append(b)\n",
    "    #print(bintegral)\n",
    "    \n",
    "plt.plot(bintegral[0],label='1 micro joule')\n",
    "plt.plot(bintegral[1],label='5 micro joule')\n",
    "plt.plot(bintegral[2],label='10 micro joule')\n",
    "plt.legend()\n",
    "plt.title(\"B integral v/s Propagation Length\")\n",
    "plt.xlabel(\"Propagation Length (mm)\")\n",
    "plt.ylabel('B- Integral')\n",
    "plt.text(0,0.03, 'Material : NBK7', fontsize = 10,color='red')\n",
    "plt.show()\n",
    "\n",
    "plt.savefig(\"my_plot.png\")\n",
    "\n"
   ]
  },
  {
   "cell_type": "code",
   "execution_count": null,
   "metadata": {},
   "outputs": [],
   "source": []
  }
 ],
 "metadata": {
  "kernelspec": {
   "display_name": "Python 3",
   "language": "python",
   "name": "python3"
  },
  "language_info": {
   "codemirror_mode": {
    "name": "ipython",
    "version": 3
   },
   "file_extension": ".py",
   "mimetype": "text/x-python",
   "name": "python",
   "nbconvert_exporter": "python",
   "pygments_lexer": "ipython3",
   "version": "3.7.4"
  }
 },
 "nbformat": 4,
 "nbformat_minor": 2
}

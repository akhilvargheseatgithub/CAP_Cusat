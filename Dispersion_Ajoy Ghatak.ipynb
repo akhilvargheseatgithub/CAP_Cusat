{
 "cells": [
  {
   "cell_type": "markdown",
   "metadata": {},
   "source": [
    "# Propagation of Light Pulse in Dispersive Medium"
   ]
  },
  {
   "cell_type": "markdown",
   "metadata": {},
   "source": [
    "Adapted From Chapter 10_Section 10.3.2_Optics by Ajoy Ghatak"
   ]
  },
  {
   "cell_type": "markdown",
   "metadata": {},
   "source": [
    "\\begin{equation}\n",
    "E(z,t)=\\frac{E_{0}}{\\sqrt{1+ip}}e^{i\\left(w_{0}t-k_{0}z\\right)}exp\\left[-\\frac{(t-z/v_{g})^{2}}{\\tau_{0}^{2}(1+ip)}\\right]\n",
    "\\end{equation}\n",
    "\n",
    "\n",
    "where $p=\\frac{2\\gamma z}{\\tau_{0}^{2}}$ $\\gamma=\\frac{\\lambda_{0}}{2\\pi c^{2}}\\left[\\lambda_{0}^{2}\\frac{d^{2}n}{d\\lambda_{0}^{2}}\\right]$ and $\\frac{1}{v_{g}}=\\frac{1}{c}\\left[n(\\lambda_{0})-\\lambda_{0}\\frac{dn}{d\\lambda_{0}}\\right]$\n",
    "\n",
    "\n",
    "Corresponding Intensity Variation is given by,\n",
    "\\begin{equation}\n",
    "I(z,t)=\\frac{I_{0}}{\\tau(z)/\\tau_{0}}exp\\left[-\\frac{2(t-z/v_{g})^{2}}{\\tau^{2}(z)}\\right]\n",
    "\\end{equation}\n",
    "\n",
    "\n",
    "where,\n",
    "$\\tau^{2}(z)=\\tau_{0}^{2}(1+p^{2})$"
   ]
  },
  {
   "cell_type": "markdown",
   "metadata": {},
   "source": [
    "Then we define the pulse broadening as,\n",
    "\\begin{equation}\n",
    "\\Delta\\tau=\\sqrt{\\tau^{2}(z)-\\tau_{0}^{2}} =|p|\\tau_{0}=\\frac{2|\\gamma|z}{\\tau_{0}}\n",
    "\\end{equation}\n",
    "\n",
    "\n",
    "Hence final Pulse width will be,\n",
    "\\begin{equation}\n",
    "\\tau_{f}\\approx\\left[\\tau_{0}^{2}+\\Delta\\tau^{2}\\right]^{1/2}\n",
    "\\end{equation}"
   ]
  },
  {
   "cell_type": "markdown",
   "metadata": {},
   "source": [
    "# Simulations"
   ]
  },
  {
   "cell_type": "code",
   "execution_count": 1,
   "metadata": {},
   "outputs": [],
   "source": [
    "import numpy as np\n",
    "import matplotlib.pyplot as plt\n",
    "import math"
   ]
  },
  {
   "cell_type": "code",
   "execution_count": 85,
   "metadata": {},
   "outputs": [
    {
     "name": "stdout",
     "output_type": "stream",
     "text": [
      "gamma= 3.621659149468907e-26 s^2/m\n",
      "delta t = -2.0695195139822323e-14 s\n",
      "final pulse width= 4.06606825062655e-14 s\n"
     ]
    }
   ],
   "source": [
    "lamda0=0.8*10**-6    \n",
    "t0=35*10**-15       \n",
    "c=3*10**8\n",
    "deltalamda=lamda0**2/(t0*2*np.pi*c)\n",
    "\n",
    "noflamda=1.453\n",
    "dnbydlamda=-0.017   #in micrometerinverse\n",
    "dsnbydlamdas=0.040  #in micrometerinverse\n",
    "\n",
    "groupvelocityinverse=1/c*(noflamda-(lamda0*10**6)*dnbydlamda)\n",
    "gamma=(lamda0/(2*np.pi*c**2))*(lamda0*10**6)**2*dsnbydlamdas\n",
    "z=10*10**-3  #in meter\n",
    "\n",
    "\n",
    "deltat=-2*(gamma)*z/t0\n",
    "tfinal=np.sqrt(t0**2+deltat**2)\n",
    "\n",
    "print('gamma=',gamma,'s^2/m')\n",
    "print('delta t =',deltat, 's')\n",
    "print('final pulse width=',tfinal,'s')"
   ]
  },
  {
   "cell_type": "markdown",
   "metadata": {},
   "source": [
    "# Time Variation of the Intensity"
   ]
  },
  {
   "cell_type": "code",
   "execution_count": 125,
   "metadata": {
    "scrolled": true
   },
   "outputs": [
    {
     "data": {
      "image/png": "[encoded data removed]",
      "text/plain": [
       "<Figure size 720x360 with 1 Axes>"
      ]
     },
     "metadata": {
      "needs_background": "light"
     },
     "output_type": "display_data"
    }
   ],
   "source": [
    "I0=1\n",
    "def t(x):\n",
    "    return t0*np.sqrt(1+(2*gamma*x/t0**2)**2)\n",
    "def I(x,ty):\n",
    "    return I0/(t(x)/t0)*np.exp(-2*(ty-x*groupvelocityinverse)**2/(t(x))**2)\n",
    "\n",
    "\n",
    "Iy1=[]\n",
    "Iy2=[]\n",
    "Iy3=[]\n",
    "Iy4=[]\n",
    "Iy5=[]\n",
    "Iy6=[]\n",
    "xaxis=[]\n",
    "x1=2*10**-3\n",
    "x2=4*10**-3\n",
    "x3=6*10**-3\n",
    "x4=8*10**-3\n",
    "x5=10*10**-3\n",
    "x6=12*10**-3\n",
    "for k in range(0,100000):\n",
    "    y=k*10**-15\n",
    "    xaxis.append(k)\n",
    "    Iy1.append(I(x1,y))\n",
    "    Iy2.append(I(x2,y))\n",
    "    Iy3.append(I(x3,y))\n",
    "    Iy4.append(I(x4,y))\n",
    "    Iy5.append(I(x5,y))\n",
    "    Iy6.append(I(x6,y))\n",
    "\n",
    "f = plt.figure()\n",
    "f.set_figwidth(10)\n",
    "f.set_figheight(5)\n",
    "\n",
    "plt.plot(xaxis,Iy1,label='2mm')\n",
    "plt.plot(xaxis,Iy2,label='4mm')\n",
    "plt.plot(xaxis,Iy3,label='6mm')\n",
    "plt.plot(xaxis,Iy4,label='8mm')\n",
    "plt.plot(xaxis,Iy5,label='10mm')\n",
    "plt.plot(xaxis,Iy6,label='12mm')\n",
    "plt.ylim(0,1)\n",
    "plt.legend()\n",
    "plt.show()\n"
   ]
  },
  {
   "cell_type": "code",
   "execution_count": null,
   "metadata": {},
   "outputs": [],
   "source": [
    "x1axis=[]\n",
    "x2axis=[]\n",
    "x3axis=[]\n",
    "x4axis=[]\n",
    "x5axis=[]\n",
    "x6axis=[]\n",
    "for i in xaxis:\n",
    "    x1axis.append(i-Iy1.index(max(Iy1)))\n",
    "    x2axis.append(i-Iy2.index(max(Iy2)))\n",
    "    x3axis.append(i-Iy3.index(max(Iy3)))\n",
    "    x4axis.append(i-Iy4.index(max(Iy4)))\n",
    "    x5axis.append(i-Iy5.index(max(Iy5)))\n",
    "    x6axis.append(i-Iy6.index(max(Iy6)))\n",
    "    \n",
    "plt.plot(x1axis,Iy1,label='2mm')\n",
    "plt.plot(x2axis,Iy2,label='4mm')\n",
    "plt.plot(x3axis,Iy3,label='6mm')\n",
    "plt.plot(x4axis,Iy4,label='8mm')\n",
    "plt.plot(x5axis,Iy5,label='10mm')\n",
    "plt.plot(x6axis,Iy6,label='12mm')\n",
    "plt.ylim(0,1)\n",
    "plt.xlim(-100,100)\n",
    "plt.show()"
   ]
  },
  {
   "cell_type": "code",
   "execution_count": null,
   "metadata": {},
   "outputs": [],
   "source": []
  }
 ],
 "metadata": {
  "kernelspec": {
   "display_name": "Python 3",
   "language": "python",
   "name": "python3"
  },
  "language_info": {
   "codemirror_mode": {
    "name": "ipython",
    "version": 3
   },
   "file_extension": ".py",
   "mimetype": "text/x-python",
   "name": "python",
   "nbconvert_exporter": "python",
   "pygments_lexer": "ipython3",
   "version": "3.7.4"
  }
 },
 "nbformat": 4,
 "nbformat_minor": 2
}
